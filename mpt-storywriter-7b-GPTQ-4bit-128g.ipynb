{
  "cells": [
    {
      "cell_type": "markdown",
      "metadata": {
        "id": "view-in-github"
      },
      "source": [
        "[![Open In Colab](https://colab.research.google.com/assets/colab-badge.svg)](https://colab.research.google.com/github/camenduru/text-generation-webui-colab/blob/main/mpt-storywriter-7b-GPTQ-4bit-128g.ipynb)"
      ]
    },
    {
      "cell_type": "code",
      "execution_count": null,
      "metadata": {
        "id": "VCFOzsQSHbjM"
      },
      "outputs": [],
      "source": [
        "%cd /content\n",
        "!apt-get -y install -qq aria2\n",
        "\n",
        "!git clone -b MosaicML https://github.com/camenduru/text-generation-webui\n",
        "%cd /content/text-generation-webui\n",
        "!pip install -q -r requirements.txt\n",
        "!pip install -U gradio==3.28.3 einops\n",
        "\n",
        "!mkdir /content/text-generation-webui/repositories\n",
        "%cd /content/text-generation-webui/repositories\n",
        "!git clone -b v1.2 https://github.com/camenduru/GPTQ-for-LLaMa.git\n",
        "%cd GPTQ-for-LLaMa\n",
        "!python setup_cuda.py install\n",
        "\n",
        "!aria2c --console-log-level=error -c -x 16 -s 16 -k 1M https://huggingface.co/4bit/mpt-7b-storywriter-4bit-128g/raw/main/config.json -d /content/text-generation-webui/models/mpt-7b-storywriter-4bit-128g -o config.json\n",
        "!aria2c --console-log-level=error -c -x 16 -s 16 -k 1M https://huggingface.co/4bit/mpt-7b-storywriter-4bit-128g/raw/main/generation_config.json -d /content/text-generation-webui/models/mpt-7b-storywriter-4bit-128g -o generation_config.json\n",
        "!aria2c --console-log-level=error -c -x 16 -s 16 -k 1M https://huggingface.co/4bit/mpt-7b-storywriter-4bit-128g/raw/main/special_tokens_map.json -d /content/text-generation-webui/models/mpt-7b-storywriter-4bit-128g -o special_tokens_map.json\n",
        "!aria2c --console-log-level=error -c -x 16 -s 16 -k 1M https://huggingface.co/4bit/mpt-7b-storywriter-4bit-128g/raw/main/tokenizer.json -d /content/text-generation-webui/models/mpt-7b-storywriter-4bit-128g -o tokenizer.json\n",
        "!aria2c --console-log-level=error -c -x 16 -s 16 -k 1M https://huggingface.co/4bit/mpt-7b-storywriter-4bit-128g/raw/main/tokenizer_config.json -d /content/text-generation-webui/models/mpt-7b-storywriter-4bit-128g -o tokenizer_config.json\n",
        "!aria2c --console-log-level=error -c -x 16 -s 16 -k 1M https://huggingface.co/4bit/mpt-7b-storywriter-4bit-128g/resolve/main/model.safetensors -d /content/text-generation-webui/models/mpt-7b-storywriter-4bit-128g -o model.safetensors\n",
        "!aria2c --console-log-level=error -c -x 16 -s 16 -k 1M https://huggingface.co/4bit/mpt-7b-storywriter-4bit-128g/raw/main/configuration_mpt.py -d /content/text-generation-webui/models/mpt-7b-storywriter-4bit-128g -o configuration_mpt.py\n",
        "!aria2c --console-log-level=error -c -x 16 -s 16 -k 1M https://huggingface.co/4bit/mpt-7b-storywriter-4bit-128g/raw/main/modeling_mpt.py -d /content/text-generation-webui/models/mpt-7b-storywriter-4bit-128g -o modeling_mpt.py\n",
        "!aria2c --console-log-level=error -c -x 16 -s 16 -k 1M https://huggingface.co/4bit/mpt-7b-storywriter-4bit-128g/raw/main/adapt_tokenizer.py -d /content/text-generation-webui/models/mpt-7b-storywriter-4bit-128g -o adapt_tokenizer.py\n",
        "!aria2c --console-log-level=error -c -x 16 -s 16 -k 1M https://huggingface.co/4bit/mpt-7b-storywriter-4bit-128g/raw/main/attention.py -d /content/text-generation-webui/models/mpt-7b-storywriter-4bit-128g -o attention.py\n",
        "!aria2c --console-log-level=error -c -x 16 -s 16 -k 1M https://huggingface.co/4bit/mpt-7b-storywriter-4bit-128g/raw/main/norm.py -d /content/text-generation-webui/models/mpt-7b-storywriter-4bit-128g -o norm.py\n",
        "!aria2c --console-log-level=error -c -x 16 -s 16 -k 1M https://huggingface.co/4bit/mpt-7b-storywriter-4bit-128g/raw/main/param_init_fns.py -d /content/text-generation-webui/models/mpt-7b-storywriter-4bit-128g -o param_init_fns.py\n",
        "!aria2c --console-log-level=error -c -x 16 -s 16 -k 1M https://huggingface.co/4bit/mpt-7b-storywriter-4bit-128g/raw/main/hf_prefixlm_converter.py -d /content/text-generation-webui/models/mpt-7b-storywriter-4bit-128g -o hf_prefixlm_converter.py\n",
        "!aria2c --console-log-level=error -c -x 16 -s 16 -k 1M https://huggingface.co/4bit/mpt-7b-storywriter-4bit-128g/raw/main/meta_init_context.py -d /content/text-generation-webui/models/mpt-7b-storywriter-4bit-128g -o meta_init_context.py\n",
        "!aria2c --console-log-level=error -c -x 16 -s 16 -k 1M https://huggingface.co/4bit/mpt-7b-storywriter-4bit-128g/raw/main/blocks.py -d /content/text-generation-webui/models/mpt-7b-storywriter-4bit-128g -o blocks.py\n",
        "\n",
        "%cd /content/text-generation-webui\n",
        "!python server.py --share --settings /content/settings.yaml --model-menu --notebook --wbits 4 --groupsize 128 --trust-remote-code --model_type gptj"
      ]
    }
  ],
  "metadata": {
    "accelerator": "GPU",
    "colab": {
      "provenance": []
    },
    "gpuClass": "standard",
    "kernelspec": {
      "display_name": "Python 3",
      "name": "python3"
    },
    "language_info": {
      "name": "python"
    }
  },
  "nbformat": 4,
  "nbformat_minor": 0
}
