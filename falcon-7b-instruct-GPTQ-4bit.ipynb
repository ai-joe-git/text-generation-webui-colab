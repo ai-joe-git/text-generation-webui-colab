{
  "cells": [
    {
      "cell_type": "markdown",
      "metadata": {
        "id": "view-in-github"
      },
      "source": [
        "[![Open In Colab](https://colab.research.google.com/assets/colab-badge.svg)](https://colab.research.google.com/github/camenduru/text-generation-webui-colab/blob/main/falcon-7b-instruct-GPTQ-4bit.ipynb)"
      ]
    },
    {
      "cell_type": "code",
      "execution_count": null,
      "metadata": {
        "id": "VCFOzsQSHbjM"
      },
      "outputs": [],
      "source": [
        "%cd /content\n",
        "!apt-get -y install -qq aria2\n",
        "\n",
        "!git clone -b v2.5 https://github.com/camenduru/text-generation-webui\n",
        "%cd /content/text-generation-webui\n",
        "!pip install -q -r requirements.txt\n",
        "\n",
        "!aria2c --console-log-level=error -c -x 16 -s 16 -k 1M https://huggingface.co/4bit/falcon-7b-instruct-GPTQ/raw/main/config.json -d /content/text-generation-webui/models/falcon-7b-instruct-GPTQ -o config.json\n",
        "!aria2c --console-log-level=error -c -x 16 -s 16 -k 1M https://huggingface.co/4bit/falcon-7b-instruct-GPTQ/raw/main/generation_config.json -d /content/text-generation-webui/models/falcon-7b-instruct-GPTQ -o generation_config.json\n",
        "!aria2c --console-log-level=error -c -x 16 -s 16 -k 1M https://huggingface.co/4bit/falcon-7b-instruct-GPTQ/raw/main/special_tokens_map.json -d /content/text-generation-webui/models/falcon-7b-instruct-GPTQ -o special_tokens_map.json\n",
        "!aria2c --console-log-level=error -c -x 16 -s 16 -k 1M https://huggingface.co/4bit/falcon-7b-instruct-GPTQ/raw/main/tokenizer_config.json -d /content/text-generation-webui/models/falcon-7b-instruct-GPTQ -o tokenizer_config.json\n",
        "!aria2c --console-log-level=error -c -x 16 -s 16 -k 1M https://huggingface.co/4bit/falcon-7b-instruct-GPTQ/resolve/main/gptq_model-4bit-64g.safetensors -d /content/text-generation-webui/models/falcon-7b-instruct-GPTQ -o gptq_model-4bit-64g.safetensors\n",
        "!aria2c --console-log-level=error -c -x 16 -s 16 -k 1M https://huggingface.co/4bit/falcon-7b-instruct-GPTQ/raw/main/configuration_RW.py -d /content/text-generation-webui/models/falcon-7b-instruct-GPTQ -o configuration_RW.py\n",
        "!aria2c --console-log-level=error -c -x 16 -s 16 -k 1M https://huggingface.co/4bit/falcon-7b-instruct-GPTQ/raw/main/modelling_RW.py -d /content/text-generation-webui/models/falcon-7b-instruct-GPTQ -o modelling_RW.py\n",
        "!aria2c --console-log-level=error -c -x 16 -s 16 -k 1M https://huggingface.co/4bit/falcon-7b-instruct-GPTQ/raw/main/quantize_config.json -d /content/text-generation-webui/models/falcon-7b-instruct-GPTQ -o quantize_config.json\n",
        "!aria2c --console-log-level=error -c -x 16 -s 16 -k 1M https://huggingface.co/4bit/falcon-7b-instruct-GPTQ/raw/main/tokenizer.json -d /content/text-generation-webui/models/falcon-7b-instruct-GPTQ -o tokenizer.json\n",
        "\n",
        "!echo \"dark_theme: true\" > /content/settings.yaml\n",
        "!echo \"chat_style: wpp\" >> /content/settings.yaml\n",
        "!echo \"mode: 'instruct'\" >> /content/settings.yaml\n",
        "!echo \"instruction_template: 'Llama-v2'\" >> /content/settings.yaml\n",
        "\n",
        "%cd /content/text-generation-webui\n",
        "!python server.py --share --settings /content/settings.yaml --trust-remote-code --wbits 4 --groupsize 128 --loader AutoGPTQ --model /content/text-generation-webui/models/falcon-7b-instruct-GPTQ"
      ]
    }
  ],
  "metadata": {
    "accelerator": "GPU",
    "colab": {
      "provenance": []
    },
    "gpuClass": "standard",
    "kernelspec": {
      "display_name": "Python 3",
      "name": "python3"
    },
    "language_info": {
      "name": "python"
    }
  },
  "nbformat": 4,
  "nbformat_minor": 0
}
