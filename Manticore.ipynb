{
    "cells": [
        {
            "cell_type": "code",
            "execution_count": null,
            "metadata": {},
            "outputs": [],
            "source": [
                "%cd /content\n",
                "!apt-get -y install -qq aria2\n",
                "\n",
                "!git clone -b v1.3 https://github.com/camenduru/text-generation-webui\n",
                "%cd /content/text-generation-webui\n",
                "!pip install -r requirements.txt\n",
                "!pip install -U gradio==3.28.3\n",
                "\n",
                "!mkdir /content/text-generation-webui/repositories\n",
                "%cd /content/text-generation-webui/repositories\n",
                "!git clone -b v1.2 https://github.com/camenduru/GPTQ-for-LLaMa.git\n",
                "%cd GPTQ-for-LLaMa\n",
                "!python setup_cuda.py install\n",
                "\n",
                "!aria2c --console-log-level=error -c -x 16 -s 16 -k 1M https://huggingface.co/Yhyu13/manticore-13b-gptq-4bit/row/main/config.json -d /content/text-generation-webui/models/manticore-13b-gptq-4bit -o config.json\n",
                "!aria2c --console-log-level=error -c -x 16 -s 16 -k 1M https://huggingface.co/Yhyu13/manticore-13b-gptq-4bit/raw/main/generation_config.json -d /content/text-generation-webui/models/manticore-13b-gptq-4bit -o generation_config.json\n",
                "!aria2c --console-log-level=error -c -x 16 -s 16 -k 1M https://huggingface.co/Yhyu13/manticore-13b-gptq-4bit/raw/main/special_tokens_map.json -d /content/text-generation-webui/models/manticore-13b-gptq-4bit -o special_tokens_map.json\n",
                "!aria2c --console-log-level=error -c -x 16 -s 16 -k 1M https://huggingface.co/Yhyu13/manticore-13b-gptq-4bit/resolve/main/tokenizer.model -d /content/text-generation-webui/models/manticore-13b-gptq-4bit -o tokenizer.model\n",
                "!aria2c --console-log-level=error -c -x 16 -s 16 -k 1M https://huggingface.co/Yhyu13/manticore-13b-gptq-4bit/raw/main/tokenizer_config.json -d /content/text-generation-webui/models/manticore-13b-gptq-4bit -o tokenizer_config.json\n",
                "!aria2c --console-log-level=error -c -x 16 -s 16 -k 1M https://huggingface.co/Yhyu13/manticore-13b-gptq-4bit/resolve/main/4bit-128g.safetensors -d /content/text-generation-webui/models/manticore-13b-gptq-4bit -o 4bit-128g.safetensors\n",
                "\n",
                "%cd /content/text-generation-webui\n",
                "!python server.py --share --chat --wbits 4 --groupsize 128 --model_type manticore"
            ]
        }
    ],
    "metadata": {
        "language_info": {
            "name": "python"
        },
        "orig_nbformat": 4
    },
    "nbformat": 4,
    "nbformat_minor": 2
}
